{
 "cells": [
  {
   "cell_type": "markdown",
   "metadata": {},
   "source": [
    "# Problem Set 1 Solution Template"
   ]
  },
  {
   "cell_type": "code",
   "execution_count": 38,
   "metadata": {},
   "outputs": [],
   "source": [
    "import pandas as pd\n",
    "import numpy as np\n",
    "\n",
    "# mysoln is a dataframe to store your answers\n",
    "\n",
    "# the first column of the dataframe contains names for the students in your group\n",
    "# make sure these match the names shown on the pdf document provided by the MFE office\n",
    "# using group 1 as an example:\n",
    "\n",
    "mysoln = pd.DataFrame([\"Kevin DeCorso\",\"Prachi Nanavati\",\"Qingyu Wang\", \"Yijie Sun\"],columns=['Group 6'])\n"
   ]
  },
  {
   "cell_type": "code",
   "execution_count": 26,
   "metadata": {},
   "outputs": [
    {
     "name": "stdout",
     "output_type": "stream",
     "text": [
      "108160.00000000001\n",
      "108285.67056280802\n",
      "108314.29591590662\n"
     ]
    }
   ],
   "source": [
    "#Q1\n",
    "# 1,2,3 are placeholders for a,b,c. Replace them with your answers. Do the same for Q2-Q4\n",
    "\n",
    "principle_amount = 100000\n",
    "interest_rate = 0.04\n",
    "years = 2\n",
    "\n",
    "a=0\n",
    "b=0\n",
    "c=0\n",
    "a = principle_amount * (1+interest_rate)**years\n",
    "print(a)\n",
    "\n",
    "b = principle_amount * (1+interest_rate/4)**(years*4)\n",
    "print(b)\n",
    "\n",
    "c = principle_amount*(1+interest_rate/12)**(years*12)\n",
    "print(c)"
   ]
  },
  {
   "cell_type": "code",
   "execution_count": 27,
   "metadata": {},
   "outputs": [
    {
     "name": "stdout",
     "output_type": "stream",
     "text": [
      "1215825.3992721934\n",
      "493491.9112227519\n"
     ]
    }
   ],
   "source": [
    "#Q2\n",
    "import numpy as np\n",
    "import pandas as pd\n",
    "\n",
    "#a\n",
    "\n",
    "payments_to_charlotte = np.ones(10)*200000\n",
    "payment_years = np.arange(start=2, stop=21 , step=2)\n",
    "interest_rate_2 = np.ones(10)*5\n",
    "present_value = sum(payments_to_charlotte/((1+interest_rate_2/100)**(payment_years)))\n",
    "print(present_value)\n",
    "\n",
    "#b \n",
    "x = 3000000\n",
    "new_payments_to_charlotte = x/sum(1/((1+interest_rate_2/100)**(payment_years)))\n",
    "print(new_payments_to_charlotte)"
   ]
  },
  {
   "cell_type": "code",
   "execution_count": 28,
   "metadata": {},
   "outputs": [
    {
     "name": "stdout",
     "output_type": "stream",
     "text": [
      "2083013.7801563398\n",
      "115430.86454872132\n"
     ]
    }
   ],
   "source": [
    "#Q3\n",
    "#a\n",
    "import numpy as np\n",
    "import pandas as pd\n",
    "\n",
    "earnings = np.ones(35)*200000\n",
    "savings = np.ones(35)*0.25*200000\n",
    "interest_rate_3 = np.ones(35)*0.01\n",
    "years = np.arange(start =1, stop=36, step =1)\n",
    "computational_years = years[::-1]\n",
    "final_savings = sum(savings*((1+interest_rate_3)**(computational_years-1))) \n",
    "print(final_savings)\n",
    "\n",
    "#b\n",
    "discount_rates = 1/((1+0.01)**years[0:20])\n",
    "new_yearly_payments = final_savings/sum(discount_rates)\n",
    "print(new_yearly_payments)"
   ]
  },
  {
   "cell_type": "code",
   "execution_count": 29,
   "metadata": {},
   "outputs": [
    {
     "name": "stdout",
     "output_type": "stream",
     "text": [
      "0.030415956913506736\n",
      "2108.020168647275\n",
      "444531.81673348666\n"
     ]
    }
   ],
   "source": [
    "import numpy as np\n",
    "import pandas as pd\n",
    "\n",
    "#Q4\n",
    "house_price = 700000\n",
    "downpayment = 200000\n",
    "mortgage_amount = 500000\n",
    "monthly_APR = 0.03\n",
    "periods = 12*30\n",
    "\n",
    "#a\n",
    "EAR = (1+monthly_APR/12)**12 - 1\n",
    "print(EAR)\n",
    "\n",
    "#b\n",
    "\n",
    "monthly_cashflow = (mortgage_amount*monthly_APR/12)/(1-(1/(1+monthly_APR/12))**(periods))\n",
    "print( monthly_cashflow)\n",
    "\n",
    "#c\n",
    "cashflow_after20 = (monthly_cashflow/(monthly_APR/12))*(1-((1/(1+monthly_APR/12))**(12*25))) \n",
    "print(cashflow_after20)\n",
    "\n",
    "\n"
   ]
  },
  {
   "cell_type": "code",
   "execution_count": 43,
   "metadata": {},
   "outputs": [
    {
     "data": {
      "text/html": [
       "<div>\n",
       "<style scoped>\n",
       "    .dataframe tbody tr th:only-of-type {\n",
       "        vertical-align: middle;\n",
       "    }\n",
       "\n",
       "    .dataframe tbody tr th {\n",
       "        vertical-align: top;\n",
       "    }\n",
       "\n",
       "    .dataframe thead th {\n",
       "        text-align: right;\n",
       "    }\n",
       "</style>\n",
       "<table border=\"1\" class=\"dataframe\">\n",
       "  <thead>\n",
       "    <tr style=\"text-align: right;\">\n",
       "      <th></th>\n",
       "      <th>student</th>\n",
       "      <th>Q1</th>\n",
       "      <th>Q2</th>\n",
       "      <th>Q3</th>\n",
       "      <th>Q4</th>\n",
       "    </tr>\n",
       "  </thead>\n",
       "  <tbody>\n",
       "    <tr>\n",
       "      <th>0</th>\n",
       "      <td>Student A</td>\n",
       "      <td>1</td>\n",
       "      <td>1</td>\n",
       "      <td>1</td>\n",
       "      <td>1</td>\n",
       "    </tr>\n",
       "    <tr>\n",
       "      <th>1</th>\n",
       "      <td>Student B</td>\n",
       "      <td>2</td>\n",
       "      <td>2</td>\n",
       "      <td>2</td>\n",
       "      <td>2</td>\n",
       "    </tr>\n",
       "    <tr>\n",
       "      <th>2</th>\n",
       "      <td>Student C</td>\n",
       "      <td>3</td>\n",
       "      <td></td>\n",
       "      <td></td>\n",
       "      <td>3</td>\n",
       "    </tr>\n",
       "    <tr>\n",
       "      <th>3</th>\n",
       "      <td>Student D</td>\n",
       "      <td></td>\n",
       "      <td></td>\n",
       "      <td></td>\n",
       "      <td></td>\n",
       "    </tr>\n",
       "  </tbody>\n",
       "</table>\n",
       "</div>"
      ],
      "text/plain": [
       "     student Q1 Q2 Q3 Q4\n",
       "0  Student A  1  1  1  1\n",
       "1  Student B  2  2  2  2\n",
       "2  Student C  3        3\n",
       "3  Student D            "
      ]
     },
     "execution_count": 43,
     "metadata": {},
     "output_type": "execute_result"
    }
   ],
   "source": [
    "mysoln"
   ]
  }
 ],
 "metadata": {
  "kernelspec": {
   "display_name": "Python 3",
   "language": "python",
   "name": "python3"
  },
  "language_info": {
   "codemirror_mode": {
    "name": "ipython",
    "version": 3
   },
   "file_extension": ".py",
   "mimetype": "text/x-python",
   "name": "python",
   "nbconvert_exporter": "python",
   "pygments_lexer": "ipython3",
   "version": "3.8.8"
  }
 },
 "nbformat": 4,
 "nbformat_minor": 4
}
